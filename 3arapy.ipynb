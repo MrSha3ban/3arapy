{
 "cells": [
  {
   "cell_type": "code",
   "execution_count": 1,
   "id": "7960868c",
   "metadata": {},
   "outputs": [],
   "source": [
    "import pandas as pd\n",
    "from IPython.display import display, Javascript\n",
    "\n",
    "from os import listdir\n",
    "func_dict={'lsx':\"pd.read_excel(\",'xls':\"pd.read_excel(\",'csv':\"pd.read_csv(\",'son':\"pd.read_json(\"}\n",
    "files_list =dict(enumerate([i for i in listdir() if i[-3:] in func_dict]))\n",
    "\n",
    "\n",
    "class DF:\n",
    "    \n",
    "    def __init__(self,df_name='',file_name='',ext='',func=''):\n",
    "        self.df_name=input('What you wanna call your Dataframe? :')\n",
    "        print('you can choose from the folowing files :','\\n',pd.DataFrame(files_list,index=range(1)).T)\n",
    "        self.file_name=files_list[int(input('type the number of the file :'))]\n",
    "        self.ext=self.file_name[-3:]\n",
    "        self.func=f'{func_dict[self.ext]}\"{self.file_name}\")'\n",
    "        \n",
    "        exec(f'{self.df_name}={self.func}', globals())\n",
    "        \n",
    "    def eda(self):\n",
    "        for i in ['.shape','.info()','.isnull().sum()','.duplicated().sum()','.describe()','.head()','.tail()']:\n",
    "\n",
    "                display(Javascript(f'''var cell = IPython.notebook.insert_cell_{'below'}(\"{'code'}\")\n",
    "        cell.set_text(\"{self.df_name}{i}\")'''))\n",
    "                display(Javascript('IPython.notebook.execute_cells_below()'))"
   ]
  },
  {
   "cell_type": "code",
   "execution_count": null,
   "id": "12a9b945",
   "metadata": {},
   "outputs": [],
   "source": [
    "a=DF()"
   ]
  },
  {
   "cell_type": "code",
   "execution_count": null,
   "id": "8d7b5e4c",
   "metadata": {},
   "outputs": [],
   "source": [
    "a.eda()"
   ]
  }
 ],
 "metadata": {
  "kernelspec": {
   "display_name": "Python 3 (ipykernel)",
   "language": "python",
   "name": "python3"
  },
  "language_info": {
   "codemirror_mode": {
    "name": "ipython",
    "version": 3
   },
   "file_extension": ".py",
   "mimetype": "text/x-python",
   "name": "python",
   "nbconvert_exporter": "python",
   "pygments_lexer": "ipython3",
   "version": "3.9.7"
  }
 },
 "nbformat": 4,
 "nbformat_minor": 5
}
